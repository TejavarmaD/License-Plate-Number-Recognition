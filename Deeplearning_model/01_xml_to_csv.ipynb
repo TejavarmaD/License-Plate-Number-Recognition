{
 "cells": [
  {
   "cell_type": "code",
   "execution_count": 2,
   "metadata": {},
   "outputs": [],
   "source": [
    "import pandas as pd\n",
    "import xml.etree.ElementTree as xet\n",
    "from glob import glob"
   ]
  },
  {
   "cell_type": "code",
   "execution_count": 3,
   "metadata": {},
   "outputs": [
    {
     "data": {
      "text/plain": [
       "['dataset\\\\labels_1\\\\Cars0.xml',\n",
       " 'dataset\\\\labels_1\\\\Cars1.xml',\n",
       " 'dataset\\\\labels_1\\\\Cars10.xml',\n",
       " 'dataset\\\\labels_1\\\\Cars11.xml',\n",
       " 'dataset\\\\labels_1\\\\Cars12.xml']"
      ]
     },
     "execution_count": 3,
     "metadata": {},
     "output_type": "execute_result"
    }
   ],
   "source": [
    "path = glob(\"dataset\\\\labels_1\\\\*.xml\")\n",
    "path[:5]"
   ]
  },
  {
   "cell_type": "code",
   "execution_count": 4,
   "metadata": {},
   "outputs": [
    {
     "name": "stdout",
     "output_type": "stream",
     "text": [
      "216 435 114 182\n"
     ]
    }
   ],
   "source": [
    "filename = path[0]\n",
    "info = xet.parse(filename)\n",
    "root = info.getroot()\n",
    "member_object = root.find(\"object\")\n",
    "labels_info = member_object.find(\"bndbox\")\n",
    "xmin = int(labels_info.find(\"xmin\").text)\n",
    "xmax = int(labels_info.find(\"xmax\").text)\n",
    "ymin = int(labels_info.find(\"ymin\").text)\n",
    "ymax = int(labels_info.find(\"ymax\").text)\n",
    "\n",
    "print(xmin,xmax,ymin,ymax)"
   ]
  },
  {
   "cell_type": "code",
   "execution_count": 5,
   "metadata": {},
   "outputs": [],
   "source": [
    "labels_dict = dict(filepath=[],xmin=[],xmax=[],ymin=[],ymax=[])\n",
    "\n",
    "for filename in path:\n",
    "    info = xet.parse(filename)\n",
    "    root = info.getroot()\n",
    "    member_object = root.find(\"object\")\n",
    "    labels_info = member_object.find(\"bndbox\")\n",
    "    xmin = int(labels_info.find(\"xmin\").text)\n",
    "    xmax = int(labels_info.find(\"xmax\").text)\n",
    "    ymin = int(labels_info.find(\"ymin\").text)\n",
    "    ymax = int(labels_info.find(\"ymax\").text)\n",
    "    labels_dict[\"filepath\"].append(filename)\n",
    "    labels_dict[\"xmin\"].append(xmin)\n",
    "    labels_dict[\"xmax\"].append(xmax)\n",
    "    labels_dict[\"ymin\"].append(ymin)\n",
    "    labels_dict[\"ymax\"].append(ymax)"
   ]
  },
  {
   "cell_type": "code",
   "execution_count": 6,
   "metadata": {},
   "outputs": [
    {
     "data": {
      "text/html": [
       "<div>\n",
       "<style scoped>\n",
       "    .dataframe tbody tr th:only-of-type {\n",
       "        vertical-align: middle;\n",
       "    }\n",
       "\n",
       "    .dataframe tbody tr th {\n",
       "        vertical-align: top;\n",
       "    }\n",
       "\n",
       "    .dataframe thead th {\n",
       "        text-align: right;\n",
       "    }\n",
       "</style>\n",
       "<table border=\"1\" class=\"dataframe\">\n",
       "  <thead>\n",
       "    <tr style=\"text-align: right;\">\n",
       "      <th></th>\n",
       "      <th>filepath</th>\n",
       "      <th>xmin</th>\n",
       "      <th>xmax</th>\n",
       "      <th>ymin</th>\n",
       "      <th>ymax</th>\n",
       "    </tr>\n",
       "  </thead>\n",
       "  <tbody>\n",
       "    <tr>\n",
       "      <th>0</th>\n",
       "      <td>dataset\\labels_1\\Cars0.xml</td>\n",
       "      <td>216</td>\n",
       "      <td>435</td>\n",
       "      <td>114</td>\n",
       "      <td>182</td>\n",
       "    </tr>\n",
       "    <tr>\n",
       "      <th>1</th>\n",
       "      <td>dataset\\labels_1\\Cars1.xml</td>\n",
       "      <td>130</td>\n",
       "      <td>268</td>\n",
       "      <td>122</td>\n",
       "      <td>165</td>\n",
       "    </tr>\n",
       "    <tr>\n",
       "      <th>2</th>\n",
       "      <td>dataset\\labels_1\\Cars10.xml</td>\n",
       "      <td>22</td>\n",
       "      <td>352</td>\n",
       "      <td>18</td>\n",
       "      <td>179</td>\n",
       "    </tr>\n",
       "    <tr>\n",
       "      <th>3</th>\n",
       "      <td>dataset\\labels_1\\Cars11.xml</td>\n",
       "      <td>116</td>\n",
       "      <td>294</td>\n",
       "      <td>196</td>\n",
       "      <td>242</td>\n",
       "    </tr>\n",
       "    <tr>\n",
       "      <th>4</th>\n",
       "      <td>dataset\\labels_1\\Cars12.xml</td>\n",
       "      <td>119</td>\n",
       "      <td>281</td>\n",
       "      <td>79</td>\n",
       "      <td>120</td>\n",
       "    </tr>\n",
       "  </tbody>\n",
       "</table>\n",
       "</div>"
      ],
      "text/plain": [
       "                      filepath  xmin  xmax  ymin  ymax\n",
       "0   dataset\\labels_1\\Cars0.xml   216   435   114   182\n",
       "1   dataset\\labels_1\\Cars1.xml   130   268   122   165\n",
       "2  dataset\\labels_1\\Cars10.xml    22   352    18   179\n",
       "3  dataset\\labels_1\\Cars11.xml   116   294   196   242\n",
       "4  dataset\\labels_1\\Cars12.xml   119   281    79   120"
      ]
     },
     "execution_count": 6,
     "metadata": {},
     "output_type": "execute_result"
    }
   ],
   "source": [
    "df = pd.DataFrame(labels_dict)\n",
    "df.head()"
   ]
  },
  {
   "cell_type": "code",
   "execution_count": 7,
   "metadata": {},
   "outputs": [],
   "source": [
    "df.to_csv(\"dataset/label.csv\", index=False)"
   ]
  },
  {
   "cell_type": "code",
   "execution_count": null,
   "metadata": {},
   "outputs": [],
   "source": []
  }
 ],
 "metadata": {
  "kernelspec": {
   "display_name": "Python 3",
   "language": "python",
   "name": "python3"
  },
  "language_info": {
   "codemirror_mode": {
    "name": "ipython",
    "version": 3
   },
   "file_extension": ".py",
   "mimetype": "text/x-python",
   "name": "python",
   "nbconvert_exporter": "python",
   "pygments_lexer": "ipython3",
   "version": "3.8.0"
  }
 },
 "nbformat": 4,
 "nbformat_minor": 2
}
